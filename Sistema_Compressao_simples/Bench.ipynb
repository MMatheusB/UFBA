{
 "cells": [
  {
   "cell_type": "code",
   "execution_count": 1,
   "metadata": {},
   "outputs": [
    {
     "name": "stderr",
     "output_type": "stream",
     "text": [
      "/home/matheus/.local/lib/python3.12/site-packages/matplotlib/projections/__init__.py:63: UserWarning: Unable to import Axes3D. This may be due to multiple versions of Matplotlib being installed (e.g. as a system package and as a pip package). As a result, the 3D projection is not available.\n",
      "  warnings.warn(\"Unable to import Axes3D. This may be due to multiple versions of \"\n"
     ]
    }
   ],
   "source": [
    "import numpy as np\n",
    "from scipy.optimize import fsolve\n",
    "import casadi as ca\n",
    "import plotly.graph_objects as go\n",
    "import optuna\n",
    "from plotly.subplots import make_subplots\n",
    "import time\n",
    "import matplotlib.pyplot as plt\n",
    "import torch\n",
    "import torch.nn as nn\n",
    "import torch.optim as optim\n",
    "from torch.utils.data import DataLoader, TensorDataset\n",
    "import pandas as pd\n",
    "from scipy.interpolate import griddata\n",
    "from libs.simulationn import Simulation\n",
    "from libs.Model import MyModel\n",
    "from libs.Interpolation import Interpolation"
   ]
  },
  {
   "cell_type": "code",
   "execution_count": null,
   "metadata": {},
   "outputs": [],
   "source": [
    "np.random.seed(42)\n",
    "print(np.random.seed)\n",
    "\n",
    "# Constantes\n",
    "A1 = (2.6)*(10**-3)\n",
    "Lc = 2\n",
    "kv = 0.38\n",
    "P1 = 4.5\n",
    "P_out = 5\n",
    "C = 479\n",
    "\n",
    "timestep = 3 # Passos no passado para prever o próximo\n",
    "nAlphas = 40 # Número de vezes que o Alfa irá mudar, considere o treino e os testes.\n",
    "alphas = np.random.uniform(0.35,0.65, nAlphas+1) # Abertura da válvula\n",
    "N_RotS = np.random.uniform(27e3, 5e4, nAlphas+1)\n",
    "epochs = 1000\n",
    "nData = 1000\n",
    "nAlphasTeste = 10\n",
    "nDataTeste = 400\n",
    "perturb = 1e-4\n",
    "tempo = 60\n",
    "tempoTeste = 40\n",
    "dt = 0.1 # Tempo amostral\n",
    "\n",
    "# Variáveis auxiliares\n",
    "interval = [np.linspace(i * tempo, (i + 1) * tempo, nData) for i in range(nAlphas)]\n",
    "interval_test = [np.linspace(i * tempoTeste, (i + 1) * tempoTeste, nDataTeste) for i in range(nAlphasTeste)]\n",
    "massFlowrate = []\n",
    "PlenumPressure = []\n",
    "alpha_values = []\n",
    "RNN_train = []\n",
    "RNN_trainFut = []"
   ]
  },
  {
   "cell_type": "code",
   "execution_count": null,
   "metadata": {},
   "outputs": [],
   "source": [
    "massFlowrateTeste = []\n",
    "PlenumPressureTeste = []\n",
    "RNN_test = []\n",
    "x_test = []\n",
    "alpha_valuesTeste = []\n",
    "aux1 = []\n",
    "aux2 = []\n",
    "alphasTeste = np.random.uniform(0.35,0.65, nAlphasTeste) # Abertura da válvula\n",
    "N_RotSTeste = np.random.uniform(27e3, 5e4, nAlphasTeste+1)\n",
    "\n",
    "sim = Simulation(A1, Lc, kv, P1, P_out, C, alphasTeste,N_RotSTeste, nAlphasTeste, nDataTeste, perturb, tempoTeste, dt, interpolation, timestep)\n",
    "\n",
    "sim.run()\n",
    "\n",
    "massFlowrateTeste = sim.massFlowrate\n",
    "PlenumPressureTeste = sim.PlenumPressure\n",
    "alpha_valuesTeste = sim.alpha_values\n",
    "x_test = sim.X_train\n",
    "print(sim.time)\n",
    "\n",
    "\n",
    "massFlowrateTeste = np.array(massFlowrateTeste)\n",
    "PlenumPressureTeste = np.array(PlenumPressureTeste)\n",
    "interval3 = np.linspace(0, tempoTeste*nAlphasTeste, len(x_test))"
   ]
  },
  {
   "cell_type": "code",
   "execution_count": null,
   "metadata": {},
   "outputs": [],
   "source": []
  }
 ],
 "metadata": {
  "kernelspec": {
   "display_name": "usr",
   "language": "python",
   "name": "python3"
  },
  "language_info": {
   "codemirror_mode": {
    "name": "ipython",
    "version": 3
   },
   "file_extension": ".py",
   "mimetype": "text/x-python",
   "name": "python",
   "nbconvert_exporter": "python",
   "pygments_lexer": "ipython3",
   "version": "3.12.3"
  }
 },
 "nbformat": 4,
 "nbformat_minor": 2
}
