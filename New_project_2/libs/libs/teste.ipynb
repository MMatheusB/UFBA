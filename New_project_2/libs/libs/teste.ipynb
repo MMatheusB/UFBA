{
 "cells": [
  {
   "cell_type": "markdown",
   "id": "ef19ea77",
   "metadata": {},
   "source": [
    "Sistema baseado na rede de distribuição de gás natural\n",
    "\n",
    "1 Duto\n",
    "\n",
    "equações :\n",
    "$$\n",
    "\\frac{\\partial}{\\partial t}\n",
    "\\begin{bmatrix}\n",
    "T \\\\\n",
    "V \\\\\n",
    "w\n",
    "\\end{bmatrix}\n",
    "=\n",
    "\\begin{bmatrix}\n",
    "-w & 0 & -T \\frac{V^{*} P'_T}{C_V} \\\\\n",
    "0 & -w & V \\\\\n",
    "- V^{*} P'_T & -V^{*} P'_V & -w\n",
    "\\end{bmatrix}\n",
    "\\frac{\\partial}{\\partial x}\n",
    "\\begin{bmatrix}\n",
    "T \\\\\n",
    "V \\\\\n",
    "w\n",
    "\\end{bmatrix}\n",
    "+\n",
    "\\begin{bmatrix}\n",
    "\\frac{f w^2 |w|}{2 D C_V} + \\frac{q}{C_V} \\\\\n",
    "0 \\\\\n",
    "\\frac{f w |w|}{2 D}\n",
    "\\end{bmatrix}\n",
    "$$\n",
    "Retirado da Tese de doutorado em Engenharia Industrial de Rodrigo Lima Meira.\n",
    "\n",
    "| **Variável**      | **Valor**           | **Unidade**     |\n",
    "|-------------------|---------------------|-----------------|\n",
    "| 𝜀                | 1,5 × 10⁻⁶          | m               |\n",
    "| κₛₒₗₒ            | 0,89                | W/(m·K)         |\n",
    "| Tₛₒₗₒ           | 15                  | °C              |\n",
    "| zₛₒₗₒ           | 2                   | m               |\n"
   ]
  },
  {
   "cell_type": "code",
   "execution_count": null,
   "id": "b5220703",
   "metadata": {},
   "outputs": [],
   "source": []
  },
  {
   "cell_type": "code",
   "execution_count": null,
   "id": "cb370171",
   "metadata": {},
   "outputs": [],
   "source": []
  },
  {
   "cell_type": "code",
   "execution_count": null,
   "id": "f96e0b71",
   "metadata": {},
   "outputs": [],
   "source": []
  }
 ],
 "metadata": {
  "kernelspec": {
   "display_name": "Python 3",
   "language": "python",
   "name": "python3"
  },
  "language_info": {
   "name": "python",
   "version": "3.10.12"
  }
 },
 "nbformat": 4,
 "nbformat_minor": 5
}
