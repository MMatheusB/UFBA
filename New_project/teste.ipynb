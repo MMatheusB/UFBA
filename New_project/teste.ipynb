{
 "cells": [
  {
   "cell_type": "code",
   "execution_count": 1,
   "metadata": {},
   "outputs": [],
   "source": [
    "# -*- coding: utf-8 -*-\n",
    "\"\"\"\n",
    "Created on Thu Dec 19 17:08:19 2024\n",
    "\n",
    "@author: Rodrigo Meira\n",
    "\"\"\"\n",
    "from libs.eos_database import *\n",
    "from libs.compressor_class import *\n",
    "from libs.compression import *\n",
    "from libs.gc_eos_soave import *\n",
    "from libs.viscosity import *\n",
    "from libs.plenum_system import *\n",
    "from libs.simulation import *\n",
    "from libs.model import *\n",
    "\n",
    "from casadi import *\n",
    "import numpy as np\n",
    "from scipy.optimize import fsolve\n",
    "import matplotlib.pyplot as plt\n",
    "import torch\n",
    "from scipy.stats import qmc\n",
    "from sklearn.model_selection import train_test_split"
   ]
  },
  {
   "cell_type": "code",
   "execution_count": 2,
   "metadata": {},
   "outputs": [],
   "source": [
    "list_names = [\"CH4\", \"C2H6\", \"C3H8\", \"iC4H10\", \"nC4H10\", \"iC5H12\", \"nC5H12\", \n",
    "                  \"nC6H14\", \"nC7H16\", \"nC8H18\", \"nC9H20\", \"nC10H22\", \"nC11H24\", \n",
    "                   \"nC12H26\", \"nC14H30\", \"N2\", \"H2O\", \"CO2\", \"C15+\"]\n",
    "\n",
    "nwe = [0.9834, 0.0061, 0.0015, 0.0003, 0.0003, 0.00055, 0.0004, 0.0, 0.0, 0.0, 0.0, 0.0, 0.0, 0.0, 0.0, 0.0003, 0.0, 0.0008, 0.0]\n",
    "\n",
    "dict_composition= {list_names[i]: nwe[i] for i in range(len(nwe))}\n",
    "\n",
    "mixture = Mixture(list_of_species, dict_composition)\n",
    "\n",
    "volumn_desviation = [0] * 19\n",
    "\n",
    "vlv = valve(kv=0.38)\n",
    "Vpp = 2.0 \n",
    "Lc = 2.0 \n",
    "A1 = 2.6e-3\n",
    "gas = gc_eos_class(mixture, 300, 4500, None, 1, 0, Aij, volumn_desviation, 'gas')\n",
    "comp = CompressorClass()\n",
    "visc = viscosity(mixture, volumn_desviation)\n",
    "compressor = compression(gas, comp, visc)\n",
    "plenum_sys = plenum(gas, compressor, vlv, Vpp, Lc, A1)"
   ]
  },
  {
   "cell_type": "code",
   "execution_count": 3,
   "metadata": {},
   "outputs": [],
   "source": [
    "nAlphas = 200\n",
    "\n",
    "sampler_N_RotS = qmc.LatinHypercube(d=1)  # d=1 porque estamos amostrando uma única variável\n",
    "samples_N_RotS = sampler_N_RotS.random(n=nAlphas+1)\n",
    "N_RotS = qmc.scale(samples_N_RotS, 600, 750).flatten()  # Redimensiona para 1D\n",
    "sampler_alphas = qmc.LatinHypercube(d=1)\n",
    "samples_alphas = sampler_alphas.random(n=nAlphas+1)\n",
    "alphas = qmc.scale(samples_alphas, 0.4, 0.65).flatten()\n",
    "\n",
    "nData = 600\n",
    "dt = 0.5\n",
    "timestep = 3\n",
    "x0 = [14.9919, 339.69, 0.42885]\n",
    "z0 = [6245.39, 6245.39, 321.672, 0.445562, 319.423, 0.503621, 320.097, 0.396345, 339.69, 0.42885, 0.514917]\n",
    "u0 = [4500, 300, 600, alphas[0], 5000]"
   ]
  },
  {
   "cell_type": "code",
   "execution_count": 4,
   "metadata": {},
   "outputs": [],
   "source": [
    "# sim = Simulation(plenum_sys, compressor, x0, z0, u0, nAlphas, alphas, N_RotS, nData, dt, timestep)\n",
    "# x_values, z_values, time_steps, alpha_values, N_values, x_train, y_train, x_min, x_max, y_min,y_max = sim.run()\n",
    "\n",
    "# sim_data = {\n",
    "#     \"x_values\": x_values,\n",
    "#     \"z_values\": z_values,\n",
    "#     \"time_steps\": time_steps,\n",
    "#     \"x_train\": x_train,\n",
    "#     \"y_train\": y_train,\n",
    "#     \"x_min\": x_min,\n",
    "#     \"x_max\": x_max,\n",
    "#     \"y_min\": y_min,\n",
    "#     \"y_max\": y_max\n",
    "\n",
    "# }\n",
    "\n",
    "# np.savez(\n",
    "#     \"simulation_data.npz\",\n",
    "#     x_values=x_values,\n",
    "#     z_values=z_values,\n",
    "#     time_steps=time_steps,\n",
    "#     alpha_values=alpha_values,\n",
    "#     N_values=N_values,\n",
    "#     x_train=x_train,\n",
    "#     y_train=y_train,\n",
    "#     x_min=x_min,\n",
    "#     x_max=x_max,\n",
    "#     y_min = y_min,\n",
    "#     y_max = y_max\n",
    "\n",
    "# )\n"
   ]
  },
  {
   "cell_type": "code",
   "execution_count": null,
   "metadata": {},
   "outputs": [
    {
     "name": "stdout",
     "output_type": "stream",
     "text": [
      "torch.Size([119997, 14])\n",
      "tensor([[10315.0664]])\n"
     ]
    }
   ],
   "source": [
    "data = np.load(\"simulation_data.npz\")\n",
    "\n",
    "x_values = data[\"x_values\"]\n",
    "z_values = data[\"z_values\"]\n",
    "time_steps = data[\"time_steps\"]\n",
    "alpha_values = data[\"alpha_values\"]\n",
    "N_values = data[\"N_values\"]\n",
    "x_train = data[\"x_train\"]\n",
    "y_train = data[\"y_train\"]\n",
    "x_min = data[\"x_min\"]\n",
    "x_max = data[\"x_max\"]\n",
    "y_min = data[\"y_min\"]\n",
    "y_max = data[\"y_max\"]\n",
    "\n",
    "\n",
    "x_min = torch.tensor(x_min, dtype = torch.float32)\n",
    "x_max = torch.tensor(x_max, dtype = torch.float32)\n",
    "y_min = torch.tensor(y_min, dtype = torch.float32)\n",
    "y_max = torch.tensor(y_max, dtype = torch.float32)\n",
    "x_train = torch.tensor(np.array(x_train), dtype=torch.float32)\n",
    "y_train = torch.tensor(np.array(y_train), dtype=torch.float32)\n",
    "y_min = y_train.amin(dim=(0), keepdim=True)\n",
    "y_max = y_train.amax(dim=(0), keepdim=True)\n",
    "x_train_split, X_val, y_train_split, y_val = train_test_split(\n",
    "    x_train, \n",
    "    y_train, \n",
    "    test_size=0.3,  \n",
    "    random_state=42,  \n",
    "    shuffle=True      \n",
    ")\n",
    "y_train_split = y_train_split.squeeze()\n",
    "y_val = y_val.squeeze()\n",
    "train_dataset = torch.utils.data.TensorDataset(x_train_split, y_train_split)\n",
    "train_loader = torch.utils.data.DataLoader(train_dataset, batch_size= 64, shuffle=True)\n",
    "val_dataset = torch.utils.data.TensorDataset(X_val, y_val)\n",
    "val_loader = torch.utils.data.DataLoader(val_dataset, batch_size= 64, shuffle=False)"
   ]
  },
  {
   "cell_type": "code",
   "execution_count": 6,
   "metadata": {},
   "outputs": [
    {
     "name": "stderr",
     "output_type": "stream",
     "text": [
      "/home/matheus/.local/lib/python3.12/site-packages/torch/optim/lr_scheduler.py:62: UserWarning: The verbose parameter is deprecated. Please use get_last_lr() to access the learning rate.\n",
      "  warnings.warn(\n"
     ]
    },
    {
     "name": "stdout",
     "output_type": "stream",
     "text": [
      "Epoch [1/3], Train Loss: 16042.868776, Val Loss: 21717273.175844Learning Rate: 0.001000 physics_z: 188982724142419274827876054073344.000000\n",
      "Epoch [2/3], Train Loss: 34.452538, Val Loss: 21477742.809947Learning Rate: 0.001000 physics_z: 974893222495547008.000000\n",
      "Epoch [3/3], Train Loss: 34.452655, Val Loss: 21184606.099467Learning Rate: 0.001000 physics_z: 840802790548460800.000000\n"
     ]
    }
   ],
   "source": [
    "model = MyModel(128, dt, x_max, x_min, y_min, y_max, plenum_sys)\n",
    "train_loss_values = model.train_model(\n",
    "    model=model,\n",
    "    train_loader=train_loader,\n",
    "    val_loader=val_loader,\n",
    "    lr= 1e-3,\n",
    "    epochs=3,\n",
    "    optimizers=torch.optim.Adam,\n",
    "    patience=100,\n",
    "    factor=0.5\n",
    ")"
   ]
  },
  {
   "cell_type": "code",
   "execution_count": 7,
   "metadata": {},
   "outputs": [
    {
     "name": "stderr",
     "output_type": "stream",
     "text": [
      "CasADi - 2025-03-21 01:00:42 WARNING(\"The options 't0', 'tf', 'grid' and 'output_t0' have been deprecated.\n",
      "The same functionality is provided by providing additional input arguments to the 'integrator' function, in particular:\n",
      " * Call integrator(..., t0, tf, options) for a single output time, or\n",
      " * Call integrator(..., t0, grid, options) for multiple grid points.\n",
      "The legacy 'output_t0' option can be emulated by including or excluding 't0' in 'grid'.\n",
      "Backwards compatibility is provided in this release only.\") [.../casadi/core/integrator.cpp:515]\n"
     ]
    }
   ],
   "source": [
    "nAlphas_teste = 7\n",
    "\n",
    "sampler_N_RotS_teste = qmc.LatinHypercube(d=1)  # d=1 porque estamos amostrando uma única variável\n",
    "samples_N_RotS_teste = sampler_N_RotS_teste.random(n=nAlphas_teste+1)\n",
    "N_RotS_teste = qmc.scale(samples_N_RotS_teste, 600, 750).flatten()  # Redimensiona para 1D\n",
    "sampler_alphas_teste = qmc.LatinHypercube(d=1)\n",
    "samples_alphas_teste = sampler_alphas_teste.random(n=nAlphas_teste+1)\n",
    "alphas_teste = qmc.scale(samples_alphas_teste, 0.4, 0.65).flatten()\n",
    "\n",
    "sim2 = sim = Simulation(plenum_sys, compressor, x0, z0, u0, nAlphas_teste, alphas_teste, N_RotS_teste, nData, dt, timestep)\n",
    "x_values_teste, z_values_teste, time_steps, alpha_values_teste, N_values_teste, x_teste, y_teste, x_min, x_max, y_min, y_max = sim.run()"
   ]
  },
  {
   "cell_type": "code",
   "execution_count": 8,
   "metadata": {},
   "outputs": [
    {
     "name": "stdout",
     "output_type": "stream",
     "text": [
      "rnn_layer.weight_ih_l0: mean=0.01328246295452118, std=0.07287678122520447\n",
      "rnn_layer.weight_hh_l0: mean=3.556431329343468e-05, std=0.060014624148607254\n",
      "rnn_layer.bias_ih_l0: mean=2.2939755581319332e-05, std=0.058123935014009476\n",
      "rnn_layer.bias_hh_l0: mean=-0.0025589095894247293, std=0.05769048258662224\n",
      "rnn_layer.weight_ih_l1: mean=7.600239769089967e-05, std=0.05921340733766556\n",
      "rnn_layer.weight_hh_l1: mean=0.00027367420261725783, std=0.05512993410229683\n",
      "rnn_layer.bias_ih_l1: mean=0.010546207427978516, std=0.05906786769628525\n",
      "rnn_layer.bias_hh_l1: mean=0.007131506688892841, std=0.05867793783545494\n",
      "dense_layers.0.weight: mean=-0.0013759237481281161, std=0.05984143912792206\n",
      "dense_layers.0.bias: mean=0.005214812234044075, std=0.07190358638763428\n",
      "dense_layers.2.weight: mean=-0.004912520293146372, std=0.07521481812000275\n",
      "dense_layers.2.bias: mean=0.039810217916965485, std=0.07777965068817139\n"
     ]
    }
   ],
   "source": [
    "import torch\n",
    "\n",
    "# Rodar a inferência corretamente\n",
    "model.eval()  # Importante colocar a rede em modo de avaliação\n",
    "with torch.no_grad():\n",
    "    y_pred = model(x_teste)\n",
    "\n",
    "# Checar se y_pred realmente varia\n",
    "for name, param in model.named_parameters():\n",
    "    print(f\"{name}: mean={param.mean().item()}, std={param.std().item()}\")\n",
    "\n"
   ]
  },
  {
   "cell_type": "code",
   "execution_count": 13,
   "metadata": {},
   "outputs": [
    {
     "name": "stdout",
     "output_type": "stream",
     "text": [
      "tensor([9.4747e+00, 3.3499e+02, 3.5570e-01, 7.3392e+03, 7.4450e+03, 3.1671e+02,\n",
      "        4.5043e-01, 3.1592e+02, 4.6361e-01, 3.3081e+02, 3.4442e-01, 3.3632e+02,\n",
      "        3.5229e-01, 5.1492e-01])\n",
      "tensor([2.6574e-01, 2.6574e-01, 5.5663e+03, 7.4021e+03, 7.4134e+03, 5.0956e+03,\n",
      "        7.4956e+03, 7.2278e+03, 3.1290e+03, 5.3432e+03, 7.2503e+03, 2.6574e-01,\n",
      "        4.4887e+03, 5.2084e+03])\n",
      "tensor([2.6574e-01, 2.6574e-01, 5.6002e+03, 8.4066e+03, 8.3911e+03, 5.2955e+03,\n",
      "        8.2806e+03, 7.0845e+03, 2.8101e+03, 5.6469e+03, 7.1881e+03, 2.6574e-01,\n",
      "        4.2577e+03, 4.5630e+03])\n",
      "torch.Size([4197, 14])\n"
     ]
    },
    {
     "data": {
      "image/png": "[encoded data removed]",
      "text/plain": [
       "<Figure size 800x400 with 1 Axes>"
      ]
     },
     "metadata": {},
     "output_type": "display_data"
    }
   ],
   "source": [
    "import matplotlib.pyplot as plt\n",
    "\n",
    "print(y_teste[0, :])\n",
    "print(y_pred[0, :])\n",
    "print(y_pred[2000, :])\n",
    "time_steps = time_steps[:y_teste.shape[0]]\n",
    "# Remover dimensões extras de y_pred (se houver)\n",
    "y_pred = y_pred.squeeze()\n",
    "y_teste = y_teste.squeeze()\n",
    "# Número de variáveis de saída\n",
    "num_outputs = y_teste.shape[1]  \n",
    "\n",
    "# Gerar 14 gráficos separadamente\n",
    "plt.figure(figsize=(8, 4))  # Criar uma nova figura para cada gráfico\n",
    "print(y_teste.shape)\n",
    "plt.plot(time_steps, y_teste[:,4], label=\"Saída Esperada (y_teste)\", color=\"red\", linestyle=\"--\")\n",
    "plt.plot(time_steps, y_pred[:, 4], label=\"Saída da Rede (y_pred)\", color=\"blue\", linestyle=\"-\")\n",
    "\n",
    "plt.xlabel(\"Time Step\")\n",
    "plt.ylabel(\"Valor\")\n",
    "plt.legend()\n",
    "plt.grid(True)\n",
    "\n",
    "plt.show()  # Mostrar cada gráfico individualmente\n"
   ]
  }
 ],
 "metadata": {
  "kernelspec": {
   "display_name": "Python 3",
   "language": "python",
   "name": "python3"
  },
  "language_info": {
   "codemirror_mode": {
    "name": "ipython",
    "version": 3
   },
   "file_extension": ".py",
   "mimetype": "text/x-python",
   "name": "python",
   "nbconvert_exporter": "python",
   "pygments_lexer": "ipython3",
   "version": "3.12.3"
  }
 },
 "nbformat": 4,
 "nbformat_minor": 2
}
