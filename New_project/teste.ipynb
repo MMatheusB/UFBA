{
 "cells": [
  {
   "cell_type": "code",
   "execution_count": 1,
   "metadata": {},
   "outputs": [],
   "source": [
    "# -*- coding: utf-8 -*-\n",
    "\"\"\"\n",
    "Created on Thu Dec 19 17:08:19 2024\n",
    "\n",
    "@author: Rodrigo Meira\n",
    "\"\"\"\n",
    "from libs.eos_database import *\n",
    "from libs.compressor_class import *\n",
    "from libs.compression import *\n",
    "from libs.gc_eos_soave import *\n",
    "from libs.viscosity import *\n",
    "from libs.plenum_system import *\n",
    "from libs.simulation import *\n",
    "\n",
    "from casadi import *\n",
    "import numpy as np\n",
    "from scipy.optimize import fsolve\n",
    "import matplotlib.pyplot as plt\n",
    "import torch"
   ]
  },
  {
   "cell_type": "code",
   "execution_count": null,
   "metadata": {},
   "outputs": [],
   "source": [
    "list_names = [\"CH4\", \"C2H6\", \"C3H8\", \"iC4H10\", \"nC4H10\", \"iC5H12\", \"nC5H12\", \n",
    "                  \"nC6H14\", \"nC7H16\", \"nC8H18\", \"nC9H20\", \"nC10H22\", \"nC11H24\", \n",
    "                   \"nC12H26\", \"nC14H30\", \"N2\", \"H2O\", \"CO2\", \"C15+\"]\n",
    "\n",
    "nwe = [0.9834, 0.0061, 0.0015, 0.0003, 0.0003, 0.00055, 0.0004, 0.0, 0.0, 0.0, 0.0, 0.0, 0.0, 0.0, 0.0, 0.0003, 0.0, 0.0008, 0.0]\n",
    "\n",
    "dict_composition= {list_names[i]: nwe[i] for i in range(len(nwe))}\n",
    "\n",
    "mixture = Mixture(list_of_species, dict_composition)\n",
    "\n",
    "volumn_desviation = [0] * 19\n",
    "\n",
    "vlv = valve(kv=0.38)\n",
    "Vpp = 2.0 \n",
    "Lc = 2.0 \n",
    "A1 = 2.6e-3\n",
    "gas = gc_eos_class(mixture, 300, 4500, None, 1, 0, Aij, volumn_desviation, 'gas')\n",
    "comp = CompressorClass()\n",
    "visc = viscosity(mixture, volumn_desviation)\n",
    "compressor = compression(gas, comp, visc)\n",
    "plenum_sys = plenum(gas, compressor, vlv, Vpp, Lc, A1)\n",
    "nAlphas = 100\n",
    "N_RotS = np.random.uniform(600, 750, nAlphas+1)\n",
    "alphas = np.random.uniform(0.35,0.65, nAlphas+1)\n",
    "nData = 120\n",
    "dt = 0.5\n",
    "timestep = 3\n",
    "x0 = [14.9919, 339.69, 0.42885]\n",
    "z0 = [6245.39, 6245.39, 321.672, 0.445562, 319.423, 0.503621, 320.097, 0.396345, 339.69, 0.42885, 0.514917]\n",
    "u0 = [4500, 300, 600, alphas[0], 5000]\n",
    "\n",
    "#medido: tp, pp, mp, p2, t2, todos u0."
   ]
  },
  {
   "cell_type": "code",
   "execution_count": 3,
   "metadata": {},
   "outputs": [
    {
     "name": "stderr",
     "output_type": "stream",
     "text": [
      "CasADi - 2025-03-17 16:00:52 WARNING(\"The options 't0', 'tf', 'grid' and 'output_t0' have been deprecated.\n",
      "The same functionality is provided by providing additional input arguments to the 'integrator' function, in particular:\n",
      " * Call integrator(..., t0, tf, options) for a single output time, or\n",
      " * Call integrator(..., t0, grid, options) for multiple grid points.\n",
      "The legacy 'output_t0' option can be emulated by including or excluding 't0' in 'grid'.\n",
      "Backwards compatibility is provided in this release only.\") [.../casadi/core/integrator.cpp:515]\n"
     ]
    }
   ],
   "source": [
    "sim = Simulation(plenum_sys, compressor, x0, z0, u0, nAlphas, alphas, N_RotS, nData, dt, timestep)\n",
    "x_values, z_values, time_steps, alpha_values, N_values, x_train, y_train, x_min, x_max = sim.run()"
   ]
  },
  {
   "cell_type": "code",
   "execution_count": 7,
   "metadata": {},
   "outputs": [
    {
     "name": "stdout",
     "output_type": "stream",
     "text": [
      "tensor([[8.4303e+00, 3.3545e+02, 7.5627e+03, 1.0575e+04, 3.5532e+02, 4.1808e-01,\n",
      "         7.2100e+02],\n",
      "        [8.8154e+00, 3.3564e+02, 7.5726e+03, 1.0479e+04, 3.5497e+02, 4.1808e-01,\n",
      "         7.2100e+02],\n",
      "        [9.1844e+00, 3.3588e+02, 7.5869e+03, 1.0354e+04, 3.5452e+02, 4.1808e-01,\n",
      "         7.2100e+02]])\n",
      "tensor([[9.5336e+00, 3.3617e+02, 3.4433e-01, 7.6052e+03, 1.0206e+04, 3.2302e+02,\n",
      "         4.2006e-01, 3.2256e+02, 4.2670e-01, 3.4975e+02, 2.6798e-01, 3.5398e+02,\n",
      "         2.7249e-01, 5.1492e-01]])\n",
      "tensor([[[8.4303e+00, 3.3545e+02, 7.5627e+03, 6.4115e+03, 3.3398e+02,\n",
      "          4.1808e-01, 6.4896e+02]]])\n"
     ]
    }
   ],
   "source": [
    "print(x_train[0])\n",
    "print(y_train[0])\n",
    "print(x_min)"
   ]
  },
  {
   "cell_type": "code",
   "execution_count": null,
   "metadata": {},
   "outputs": [],
   "source": [
    "plt.figure(figsize=(12, 6))\n",
    "\n",
    "plt.figure(figsize=(12, 6))\n",
    "plt.plot(time_steps, x_values[:, 0], label=f'Vazao Massica')\n",
    "plt.xlabel('Tempo')\n",
    "plt.ylabel(f'Vazao massica')\n",
    "plt.title(f'Evolução da Vazao massica ao Longo do Tempo')\n",
    "plt.legend()\n",
    "plt.grid()\n",
    "plt.show()\n",
    "\n",
    "plt.figure(figsize=(12, 6))\n",
    "plt.plot(time_steps, x_values[:, 1], label=f'Temperatura')\n",
    "plt.xlabel('Tempo')\n",
    "plt.ylabel(f'Temperatura')\n",
    "plt.title(f'Evolução da Temperatura ao Longo do Tempo')\n",
    "plt.legend()\n",
    "plt.grid()\n",
    "plt.show()\n",
    "\n",
    "plt.figure(figsize=(12, 6))\n",
    "plt.plot(time_steps, x_values[:, 2], label=f'Volume')\n",
    "plt.xlabel('Tempo')\n",
    "plt.ylabel(f'Volume')\n",
    "plt.title(f'Evolução do Volume ao Longo do Tempo')\n",
    "plt.legend()\n",
    "plt.grid()\n",
    "plt.show()\n",
    "\n",
    "plt.figure(figsize=(12, 6))\n",
    "plt.plot(time_steps, z_values[:, 0], label='Pp', color='green')\n",
    "plt.xlabel('Tempo')\n",
    "plt.ylabel('Estado z[0]')\n",
    "plt.title('Evolução da Pressao do Plenum ao Longo do Tempo')\n",
    "plt.legend()\n",
    "plt.grid()\n",
    "plt.show()\n",
    "\n",
    "plt.figure(figsize=(12, 6))\n",
    "plt.plot(time_steps, alpha_values, label='Abertura da válvula', color='red')\n",
    "plt.xlabel('Tempo')\n",
    "plt.ylabel('Abertura da Válvula')\n",
    "plt.title('Variação da Abertura da Válvula ao Longo do Tempo')\n",
    "plt.legend()\n",
    "plt.grid()\n",
    "plt.show()\n",
    "\n",
    "plt.figure(figsize=(12, 6))\n",
    "plt.plot(time_steps, N_values, label='Rotacao', color='red')\n",
    "plt.xlabel('Tempo')\n",
    "plt.ylabel('Rotacao')\n",
    "plt.title('Variação da Rotacao ao Longo do Tempo')\n",
    "plt.legend()\n",
    "plt.grid()\n",
    "plt.show()"
   ]
  }
 ],
 "metadata": {
  "kernelspec": {
   "display_name": "Python 3",
   "language": "python",
   "name": "python3"
  },
  "language_info": {
   "codemirror_mode": {
    "name": "ipython",
    "version": 3
   },
   "file_extension": ".py",
   "mimetype": "text/x-python",
   "name": "python",
   "nbconvert_exporter": "python",
   "pygments_lexer": "ipython3",
   "version": "3.12.3"
  }
 },
 "nbformat": 4,
 "nbformat_minor": 2
}
