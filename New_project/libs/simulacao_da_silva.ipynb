{
 "cells": [
  {
   "cell_type": "code",
   "execution_count": 15,
   "metadata": {},
   "outputs": [],
   "source": [
    "# -*- coding: utf-8 -*-\n",
    "\"\"\"\n",
    "Created on Thu Dec 19 17:08:19 2024\n",
    "\n",
    "@author: Rodrigo Meira\n",
    "\"\"\"\n",
    "\n",
    "from eos_database import *\n",
    "from compressor_class import *\n",
    "from compression import *\n",
    "from gc_eos_soave import *\n",
    "from casadi import *\n",
    "import numpy as np\n",
    "from scipy.optimize import fsolve\n",
    "import matplotlib.pyplot as plt\n",
    "from viscosity import *\n",
    "from plenum_system import *\n",
    "import pdb"
   ]
  },
  {
   "cell_type": "code",
   "execution_count": 16,
   "metadata": {},
   "outputs": [],
   "source": [
    "list_names = [\"CH4\", \"C2H6\", \"C3H8\", \"iC4H10\", \"nC4H10\", \"iC5H12\", \"nC5H12\", \n",
    "                  \"nC6H14\", \"nC7H16\", \"nC8H18\", \"nC9H20\", \"nC10H22\", \"nC11H24\", \n",
    "                   \"nC12H26\", \"nC14H30\", \"N2\", \"H2O\", \"CO2\", \"C15+\"]\n",
    "\n",
    "nwe = [0.9834, 0.0061, 0.0015, 0.0003, 0.0003, 0.00055, 0.0004, 0.0, 0.0, 0.0, 0.0, 0.0, 0.0, 0.0, 0.0, 0.0003, 0.0, 0.0008, 0.0]\n",
    "\n",
    "dict_composition= {list_names[i]: nwe[i] for i in range(len(nwe))}\n",
    "\n",
    "mixture = Mixture(list_of_species, dict_composition)\n",
    "\n",
    "volumn_desviation = [0] * 19\n",
    "\n",
    "vlv = valve(kv=0.38)\n",
    "Vpp = 2.0 \n",
    "Lc = 2.0 \n",
    "A1 = 2.6e-3\n",
    "gas = gc_eos_class(mixture, 300, 4500, None, 1, 0, Aij, volumn_desviation, 'gas')\n",
    "comp = CompressorClass()\n",
    "visc = viscosity(mixture, volumn_desviation)\n",
    "compressor = compression(gas, comp, visc)\n",
    "plenum_sys = plenum(gas, compressor, vlv, Vpp, Lc, A1)\n",
    "\n",
    "\n"
   ]
  },
  {
   "cell_type": "code",
   "execution_count": 17,
   "metadata": {},
   "outputs": [
    {
     "name": "stdout",
     "output_type": "stream",
     "text": [
      "Estado estacionário (variáveis diferenciais): [ 14.99187014 339.69040519   0.42885043]\n",
      "Estado estacionário (variáveis algébricas): [6.24539351e+03 6.24539351e+03 3.21672204e+02 4.45561887e-01\n",
      " 3.19423402e+02 5.03620944e-01 3.20096967e+02 3.96345009e-01\n",
      " 3.39690405e+02 4.28850426e-01 5.14917237e-01]\n"
     ]
    }
   ],
   "source": [
    "n_x = 3\n",
    "n_z = 11\n",
    "\n",
    "def system_residuals(y, u0, plenum_sys):\n",
    "    # Separa as variáveis\n",
    "    x = y[:n_x]\n",
    "    z = y[n_x:]\n",
    "    \n",
    "    # Substitua as expressões abaixo pelas suas equações do modelo em estado estacionário.\n",
    "    ode_sym, alg_sym = plenum_sys.evaluate_dae(None, x, z, u0)\n",
    "    \n",
    "    res_ode = np.array([ode_sym[i].item() for i in range(n_x)])\n",
    "    \n",
    "    # Calcula os resíduos das equações algébricas\n",
    "    res_alg = np.array([alg_sym[i] for i in range(n_z)])\n",
    "\n",
    "    res = np.concatenate((res_ode, res_alg))\n",
    "    return res\n",
    "\n",
    "def compute_steady_state(u0, plenum_sys, x0, z0):\n",
    "    # Vetor inicial concatenado\n",
    "    y0 = np.array(x0 + z0)\n",
    "    \n",
    "    # Chama o fsolve para encontrar os zeros da função de resíduos\n",
    "    sol = fsolve(system_residuals, y0, args=(u0, plenum_sys))\n",
    "    \n",
    "    # Separa a solução em x e z\n",
    "    x_ss = sol[:n_x]\n",
    "    z_ss = sol[n_x:]\n",
    "    return x_ss, z_ss\n",
    "\n",
    "if __name__ == '__main__':\n",
    "    Phi, eta, Mach, Gimp, G2, Gdif, PHI, G2s, k = compression.character(compressor, m = 10, N = 750, Gi_1 = gas)\n",
    "    x0 = [14.9919, 339.69, 0.42885]\n",
    "    # E z0 pode ser (conforme seu código original):\n",
    "    z0 = [6245.39, 6245.39, 321.672, 0.445562, 319.423, 0.503621, 320.097, 0.396345, 339.69, 0.42885, 0.514917]\n",
    "    u0 = [4500, 300, 750, (10/0.38/(G2.P - 5000)**0.5), 5000]\n",
    "    \n",
    "    # Calcula os estados estacionários\n",
    "    x_ss, z_ss = compute_steady_state(u0, plenum_sys, x0, z0)\n",
    "    print(\"Estado estacionário (variáveis diferenciais):\", x_ss)\n",
    "    print(\"Estado estacionário (variáveis algébricas):\", z_ss)"
   ]
  },
  {
   "cell_type": "code",
   "execution_count": 18,
   "metadata": {},
   "outputs": [
    {
     "name": "stdout",
     "output_type": "stream",
     "text": [
      "Valores das ODEs:\n",
      "ODE 0: 0.0\n",
      "ODE 1: 1.1667879349724045e-14\n",
      "ODE 2: -0.0\n",
      "\n",
      "Valores das equações algébricas:\n",
      "Algebrica 0: -9.094947017729282e-13\n",
      "Algebrica 1: 0.0\n",
      "Algebrica 2: 1.2104207862521689e-15\n",
      "Algebrica 3: 3.7765459686304125e-14\n",
      "Algebrica 4: -1.6685314310489967e-15\n",
      "Algebrica 5: 4.491839191910814e-14\n",
      "Algebrica 6: 2.8990143619012088e-12\n",
      "Algebrica 7: -1.4210854715202004e-14\n",
      "Algebrica 8: 9.094947017729282e-13\n",
      "Algebrica 9: 9.094947017729282e-13\n",
      "Algebrica 10: 0.0\n"
     ]
    }
   ],
   "source": [
    "def test_evaluate_dae(plenum_sys, x_test, z_test, u0):# Parâmetros de entrada\n",
    "\n",
    "    # Avaliação da função\n",
    "    ode_values, alg_values = plenum_sys.evaluate_dae(None, x_ss, z_ss, u0)\n",
    "\n",
    "    # Imprimindo os resultados\n",
    "    print(\"Valores das ODEs:\")\n",
    "    for i, val in enumerate(ode_values):\n",
    "        print(f\"ODE {i}: {val}\")\n",
    "\n",
    "    print(\"\\nValores das equações algébricas:\")\n",
    "    for i, val in enumerate(alg_values):\n",
    "        print(f\"Algebrica {i}: {val}\")\n",
    "    return ode_values, alg_values\n",
    "ode_values, alg_values = test_evaluate_dae(plenum_sys, x_ss, z_ss, u0)"
   ]
  },
  {
   "cell_type": "code",
   "execution_count": 38,
   "metadata": {},
   "outputs": [
    {
     "data": {
      "text/plain": [
       "{'adj_p': DM(0x0),\n",
       " 'adj_u': DM(0x0),\n",
       " 'adj_x0': DM(0x0),\n",
       " 'adj_z0': DM(0x0),\n",
       " 'qf': DM(0x1),\n",
       " 'xf': DM([13.5185, 347.413, 0.341683]),\n",
       " 'zf': DM([7995.44, 7995.44, 322.763, 0.43173, 321.106, 0.463829, 335.126, 0.325364, 347.413, 0.341683, 0.514917])}"
      ]
     },
     "execution_count": 38,
     "metadata": {},
     "output_type": "execute_result"
    }
   ],
   "source": [
    "def run_simulation(x0, z0, plenum_sys):\n",
    "    u0 = [4500, 300, 750, 0.65, 5000]\n",
    "    # Definição dos símbolos\n",
    "    x_sym = SX.sym('x', 3)\n",
    "    z_sym = SX.sym('z', 11)\n",
    "    u_sym = SX.sym('u', 5)\n",
    "\n",
    "    # Avaliação das equações\n",
    "    ode_sym, alg_sym = plenum_sys.evaluate_dae(None, x_sym, z_sym, u_sym)\n",
    "\n",
    "    # Funções para avaliação separada\n",
    "    ode_fun = ca.Function('ode_fun', [x_sym, z_sym, u_sym], ode_sym)\n",
    "    alg_fun = ca.Function('alg_fun', [x_sym, z_sym, u_sym], alg_sym)\n",
    "\n",
    "\n",
    "    # Criação do DAE e integrador (mantido para referência)\n",
    "    dae = {\n",
    "        'x': x_sym,\n",
    "        'z': z_sym,\n",
    "        'p': u_sym,\n",
    "        'ode': vertcat(*ode_sym),\n",
    "        'alg': vertcat(*alg_sym)\n",
    "    }\n",
    "    \n",
    "    integrator_solver = integrator('F', 'idas', dae, 0, 100)\n",
    "    res = integrator_solver(x0=x0, z0=z0, p=u0)\n",
    "\n",
    "    return res\n",
    "\n",
    "run_simulation(x_ss,z_ss, plenum_sys)"
   ]
  }
 ],
 "metadata": {
  "kernelspec": {
   "display_name": "Python 3",
   "language": "python",
   "name": "python3"
  },
  "language_info": {
   "codemirror_mode": {
    "name": "ipython",
    "version": 3
   },
   "file_extension": ".py",
   "mimetype": "text/x-python",
   "name": "python",
   "nbconvert_exporter": "python",
   "pygments_lexer": "ipython3",
   "version": "3.12.3"
  }
 },
 "nbformat": 4,
 "nbformat_minor": 2
}
